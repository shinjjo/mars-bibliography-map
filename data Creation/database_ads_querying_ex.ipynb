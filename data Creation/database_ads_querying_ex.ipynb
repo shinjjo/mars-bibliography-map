{
 "cells": [
  {
   "cell_type": "code",
   "execution_count": 1,
   "metadata": {},
   "outputs": [
    {
     "name": "stdout",
     "output_type": "stream",
     "text": [
      "Populating the interactive namespace from numpy and matplotlib\n"
     ]
    }
   ],
   "source": [
    "import subprocess as sub\n",
    "import sys\n",
    "import ads\n",
    "import re\n",
    "import json\n",
    "import pandas as pd\n",
    "import ogr\n",
    "from matplotlib import pylab\n",
    "from paper_class import Paper\n",
    "from feature_class import Feature\n",
    "%pylab inline"
   ]
  },
  {
   "cell_type": "code",
   "execution_count": 2,
   "metadata": {
    "collapsed": true
   },
   "outputs": [],
   "source": [
    "# routine to read information from json file\n",
    "# creates a Feature instance with extracted data\n",
    "def feature_extract(obj):\n",
    "    if '__type__' in obj and obj['__type__'] == 'Feature':\n",
    "        return Feature(obj['name'], obj['id'], obj['polygon_coordinates'], obj['publications'])\n",
    "    return Feature(\"None\", 0, \"None\", \"None\")"
   ]
  },
  {
   "cell_type": "code",
   "execution_count": 3,
   "metadata": {
    "collapsed": true
   },
   "outputs": [],
   "source": [
    "# routine to parse json file and fetch definition of each feature\n",
    "def parse_json_stream(text):\n",
    "    list_idx = [m.start() for m in re.finditer('}\\n', text)]\n",
    "    list_objs = []\n",
    "    last_index = 0\n",
    "    for index in list_idx:\n",
    "        new_feature = json.loads(text[last_index:index+2], object_hook=feature_extract)\n",
    "        if (new_feature.name == \"None\"):\n",
    "            break\n",
    "        list_objs += [new_feature]\n",
    "        last_index = index+2\n",
    "    return list_objs"
   ]
  },
  {
   "cell_type": "code",
   "execution_count": 4,
   "metadata": {
    "collapsed": true
   },
   "outputs": [],
   "source": [
    "# code is taken from jupyter notebook \n",
    "# https://github.com/epn-vespa/vespamap17-hackathon/blob/master/vespa-mapping-jupyter-samp/SendName_to_IAUnomenclature_findPolygon_hacky.ipynb\n",
    "def draw_feature_contour(feature):\n",
    "    geomOGR = ogr.CreateGeometryFromWkt(feature.pcoord)\n",
    "    \n",
    "    figsize(6,6)\n",
    "    \n",
    "    coords = json.loads(geomOGR.ExportToJson())['coordinates'][0]\n",
    "    print(coords)\n",
    "    x = [i for i,j in coords[0]]\n",
    "    y = [j for i,j in coords[0]]\n",
    "\n",
    "    plot(x, y, 'b')\n",
    "    pylab.xlabel('Longitude')\n",
    "    pylab.ylabel('Latitude')\n",
    "    pylab.title('Feature : ' + feature.name)\n",
    "    grid()"
   ]
  },
  {
   "cell_type": "code",
   "execution_count": 5,
   "metadata": {
    "collapsed": true
   },
   "outputs": [],
   "source": [
    "# To create a database with features and their topological structure\n",
    "# One needs to create a csv file with \n",
    "# https://planetarynames.wr.usgs.gov/nomenclature/AdvancedSearch\n",
    "# and pass it to the database_creation script\n",
    "# IMPORTANT: feature ID and feature name should be present in csv file"
   ]
  },
  {
   "cell_type": "code",
   "execution_count": 6,
   "metadata": {
    "collapsed": true
   },
   "outputs": [],
   "source": [
    "script_name = \"database_merged.py\"\n",
    "csv_file_name = \"Mars_mini.csv\"\n",
    "output_file_name = \"features.json\"\n",
    "try:\n",
    "    ret = sub.call(' '.join([\"python\", script_name, csv_file_name, output_file_name]), shell = True)\n",
    "    if (ret != 0):\n",
    "        print(\"Child returned\", ret, file=sys.stderr)\n",
    "except OSError as e:\n",
    "    print(\"Execution failed: \", e, file=sys.stderr)"
   ]
  },
  {
   "cell_type": "code",
   "execution_count": 7,
   "metadata": {
    "collapsed": true
   },
   "outputs": [],
   "source": [
    "# now database is built and we want to provide speific queries to ADS\n",
    "keyword = [\"landing site\"]\n",
    "toponym = \"Abalos Colles\"\n",
    "years = range(2003, 2017)\n",
    "query_list = [\"\", \"\", \"\"]\n",
    "\n",
    "if (toponym):\n",
    "    query_list[0] = toponym\n",
    "\n",
    "if (keyword):\n",
    "    for idx in range(len(keyword) - 1):\n",
    "        query_list[1] += \"author:\" + keyword[idx] + \" OR \"\n",
    "    query_list[1] += \"author:\" + keyword[-1]\n",
    "        \n",
    "if (years):\n",
    "    query_list[2] = \"year:[\" + str(years.start) + \" TO \" + str(years.stop) + \"]\" \n",
    "\n",
    "query = ' AND '.join(filter(None, query_list))"
   ]
  },
  {
   "cell_type": "code",
   "execution_count": 8,
   "metadata": {},
   "outputs": [
    {
     "name": "stdout",
     "output_type": "stream",
     "text": [
      "Abalos Colles AND author:landing site AND year:[2003 TO 2017]\n"
     ]
    }
   ],
   "source": [
    "if (not query):\n",
    "    raise RuntimeError(\"Empty query is not allowed!\")\n",
    "print(query)"
   ]
  },
  {
   "cell_type": "code",
   "execution_count": 9,
   "metadata": {
    "collapsed": true
   },
   "outputs": [],
   "source": [
    "#performing a query to ADS API\n",
    "example_results = []\n",
    "try:\n",
    "    example_results = list(ads.SearchQuery(q=query, fl=['title', 'author', 'year', 'pub', 'bibcode']))\n",
    "except (ads.exceptions.APIResponseError, ads.exceptions.SolrResponseParseError) as e:\n",
    "    \"Error: {}\".format(e)"
   ]
  },
  {
   "cell_type": "code",
   "execution_count": 10,
   "metadata": {
    "collapsed": true
   },
   "outputs": [],
   "source": [
    "# representing results with custom Paper class\n",
    "results_new = []\n",
    "for paper in example_results:\n",
    "    results_new.append(Paper(paper.title[0], paper.author, paper.year, paper.pub, paper.bibcode))"
   ]
  },
  {
   "cell_type": "code",
   "execution_count": 11,
   "metadata": {
    "collapsed": true
   },
   "outputs": [],
   "source": [
    "# dig the database for the requested toponym\n",
    "with open(output_file_name) as fin:\n",
    "    features = parse_json_stream(fin.read())"
   ]
  },
  {
   "cell_type": "code",
   "execution_count": 12,
   "metadata": {},
   "outputs": [
    {
     "name": "stdout",
     "output_type": "stream",
     "text": [
      "Abalos Colles is found in the database!\n",
      "[[[291.57163429260254, 74.97826194763184], [291.13057136535645, 74.8109302520752], [290.57140159606934, 74.8525562286377], [284.5605068206787, 76.16095542907715], [284.5394763946533, 76.43600654602051], [284.74025535583496, 77.1826000213623], [284.81204414367676, 78.65801429748535], [284.790002822876, 78.6591625213623], [285.07346534729004, 78.78381538391113], [293.35122871398926, 77.87516212463379], [293.3949947357178, 77.76282691955566], [291.57163429260254, 74.97826194763184]]]\n"
     ]
    },
    {
     "data": {
      "image/png": "[encoded data removed]",
      "text/plain": [
       "<matplotlib.figure.Figure at 0x7f3c8217d828>"
      ]
     },
     "metadata": {},
     "output_type": "display_data"
    }
   ],
   "source": [
    "# if the entry exists - draw the toponym as a polygon\n",
    "for feature in features:\n",
    "    if (toponym == feature.name):\n",
    "        print(toponym + \" is found in the database!\")\n",
    "        draw_feature_contour(feature)\n",
    "        break\n",
    "    else:\n",
    "        print(\"Cannot find in the database!\")"
   ]
  },
  {
   "cell_type": "code",
   "execution_count": 13,
   "metadata": {
    "collapsed": true
   },
   "outputs": [],
   "source": [
    "# create pandas table\n",
    "pd.set_option('display.max_colwidth', -1)\n",
    "df = pd.DataFrame([paper.to_dict() for paper in results_new])"
   ]
  },
  {
   "cell_type": "raw",
   "metadata": {
    "collapsed": true
   },
   "source": []
  },
  {
   "cell_type": "code",
   "execution_count": null,
   "metadata": {
    "collapsed": true
   },
   "outputs": [],
   "source": []
  }
 ],
 "metadata": {
  "kernelspec": {
   "display_name": "Python 3",
   "language": "python",
   "name": "python3"
  },
  "language_info": {
   "codemirror_mode": {
    "name": "ipython",
    "version": 3
   },
   "file_extension": ".py",
   "mimetype": "text/x-python",
   "name": "python",
   "nbconvert_exporter": "python",
   "pygments_lexer": "ipython3",
   "version": "3.6.2"
  }
 },
 "nbformat": 4,
 "nbformat_minor": 2
}
